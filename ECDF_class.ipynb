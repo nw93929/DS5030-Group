{
 "cells": [
  {
   "cell_type": "markdown",
   "id": "d7dcf9da",
   "metadata": {},
   "source": [
    "Write a Python class that:\n",
    "- Computes the ECDF $\\hat{F}_N(x)$\n",
    "- Has a method to compute any quantile without using Numpy\n",
    "- Has a method to compute the **Interquartile Range (IQR)** -- the .25 quantile and the .75 quantile, which brackets 50% of the data -- and the **whiskers**: $\\pm 1.5 \\times \\text{IQR}$ from the edges of the IQR\n",
    "- Has a method to compute a five-number summary/boxplot: the whiskers, the minimum and maximum, the IQR and the median\n",
    "- Compare your answers with `sns.boxplot`; making a boxplot yourself is kind of a pain, but you could make a 5-number summary visualization\n",
    "- Anything outside the whiskers is an **outlier**; write a method that returns a Boolean vector indicating if the observations are outliers\n",
    "\n",
    "Then use your ECDF class to analyze numeric variables from a dataset of your choice\n"
   ]
  },
  {
   "cell_type": "code",
   "execution_count": null,
   "id": "d26060aa",
   "metadata": {},
   "outputs": [],
   "source": [
    "import numpy as np\n",
    "\n",
    "class ECDF:\n",
    "    def __init__(self, data):\n",
    "        self.data = sorted(data)\n",
    "        self.n = len(self.data)\n",
    "\n",
    "    def quantile(self, q):\n",
    "        \"\"\"\n",
    "        Compute the q-th quantile of the data (0 <= q <= 1).\n",
    "        \n",
    "        Args:\n",
    "            q (float): The quantile to compute (0 <= q <= 1).\n",
    "        \"\"\"\n",
    "        if not 0 <= q <= 1:\n",
    "            raise ValueError(\"q must be between 0 and 1\")\n",
    "        pos = q * (self.n - 1)\n",
    "        lower = int(pos)\n",
    "        upper = min(lower + 1, self.n - 1)\n",
    "        weight = pos - lower\n",
    "        return self.data[lower] * (1 - weight) + self.data[upper] * weight\n",
    "    def is_outlier(self, whisker_multiplier=1.5):\n",
    "        \"\"\"\n",
    "        Returns a boolean vector indicating if observations are outliers.\n",
    "\n",
    "        Parameters:\n",
    "        whisker_multiplier: Multiplier for whisker calculation. 1.5 for this activity.\n",
    "\n",
    "        Returns: Boolean vector indicating if each observation is an outlier\n",
    "        \"\"\"\n",
    "        q1 = self.quantile(0.25)\n",
    "        q3 = self.quantile(0.75)\n",
    "        iqr = q3 - q1\n",
    "        lower_bound = q1 - (whisker_multiplier * iqr)\n",
    "        upper_bound = q3 + (whisker_multiplier * iqr)\n",
    "        return (self.data < lower_bound) | (self.data > upper_bound)\n",
    "    \n",
    "    def iqr_and_whiskers(self, data):\n",
    "        \"\"\"\n",
    "         Compute the interquartile range (IQR) and whiskers at ±1.5 × IQR.\n",
    "\n",
    "        Arguments:\n",
    "         data (array): The data you want to use\n",
    "\n",
    "        Returns:\n",
    "        tuple:\n",
    "            - iqr (float): The interquartile range.\n",
    "            - whiskers (tuple): Lower and upper whiskers as (lower, upper).\n",
    "        \"\"\"\n",
    "        q3 = self.quantile(data, 0.75)\n",
    "        q1 = self.quantile(data, 0.25)\n",
    "        iqr = q3 - q1\n",
    "        whisker_range = 1.5 * iqr\n",
    "        lower = q1 - whisker_range\n",
    "        upper = q3 + whisker_range\n",
    "        whiskers = (lower, upper)\n",
    "        print(f\"The interquartile range is {iqr:.2f} with whiskers at {whiskers}.\")\n",
    "        return iqr, whiskers"
   ]
  }
 ],
 "metadata": {
  "kernelspec": {
   "display_name": "MSDS",
   "language": "python",
   "name": "python3"
  },
  "language_info": {
   "codemirror_mode": {
    "name": "ipython",
    "version": 3
   },
   "file_extension": ".py",
   "mimetype": "text/x-python",
   "name": "python",
   "nbconvert_exporter": "python",
   "pygments_lexer": "ipython3",
   "version": "3.12.3"
  }
 },
 "nbformat": 4,
 "nbformat_minor": 5
}
