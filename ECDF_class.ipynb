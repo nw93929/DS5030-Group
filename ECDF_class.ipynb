{
 "cells": [
  {
   "cell_type": "markdown",
   "id": "d7dcf9da",
   "metadata": {},
   "source": [
    "Write a Python class that:\n",
    "- Computes the ECDF $\\hat{F}_N(x)$\n",
    "- Has a method to compute any quantile without using Numpy\n",
    "- Has a method to compute the **Interquartile Range (IQR)** -- the .25 quantile and the .75 quantile, which brackets 50% of the data -- and the **whiskers**: $\\pm 1.5 \\times \\text{IQR}$ from the edges of the IQR\n",
    "- Has a method to compute a five-number summary/boxplot: the whiskers, the minimum and maximum, the IQR and the median\n",
    "- Compare your answers with `sns.boxplot`; making a boxplot yourself is kind of a pain, but you could make a 5-number summary visualization\n",
    "- Anything outside the whiskers is an **outlier**; write a method that returns a Boolean vector indicating if the observations are outliers\n",
    "\n",
    "Then use your ECDF class to analyze numeric variables from a dataset of your choice\n"
   ]
  },
  {
   "cell_type": "code",
   "execution_count": null,
   "id": "f6f0a795",
   "metadata": {},
   "outputs": [],
   "source": [
    "import numpy as np\n",
    "\n",
    "def interquartile_range(x): # where x is the dataset\n",
    "    q3 = np.quantile(x, 0.75) # replace with quantile method\n",
    "    q1 = np.quantile(x, 0.25)\n",
    "    iqr  = q3 - q1 # finds the middle 50% of the dataset\n",
    "    a = iqr * 1.5 # find the range\n",
    "    upper = q3 + a # adds to find the upper bound\n",
    "    lower = q1 - a # subtract to find the lower bound\n",
    "    print(f'The interquartile range with whiskers is {(lower, upper)}')\n"
   ]
  },
  {
   "cell_type": "code",
   "execution_count": null,
   "id": "84742b49",
   "metadata": {},
   "outputs": [],
   "source": []
  }
 ],
 "metadata": {
  "language_info": {
   "name": "python"
  }
 },
 "nbformat": 4,
 "nbformat_minor": 5
}
