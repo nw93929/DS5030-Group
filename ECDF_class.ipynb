{
 "cells": [
  {
   "cell_type": "markdown",
   "id": "d7dcf9da",
   "metadata": {},
   "source": [
    "Write a Python class that:\n",
    "- Computes the ECDF $\\hat{F}_N(x)$\n",
    "- Has a method to compute any quantile without using Numpy\n",
    "- Has a method to compute the **Interquartile Range (IQR)** -- the .25 quantile and the .75 quantile, which brackets 50% of the data -- and the **whiskers**: $\\pm 1.5 \\times \\text{IQR}$ from the edges of the IQR\n",
    "- Has a method to compute a five-number summary/boxplot: the whiskers, the minimum and maximum, the IQR and the median\n",
    "- Compare your answers with `sns.boxplot`; making a boxplot yourself is kind of a pain, but you could make a 5-number summary visualization\n",
    "- Anything outside the whiskers is an **outlier**; write a method that returns a Boolean vector indicating if the observations are outliers\n",
    "\n",
    "Then use your ECDF class to analyze numeric variables from a dataset of your choice\n"
   ]
  },
  {
   "cell_type": "code",
   "execution_count": null,
   "id": "d0004d0f",
   "metadata": {},
   "outputs": [],
   "source": [
    "import numpy as np\n",
    "\n",
    "class ECDF:\n",
    "    # placeholder for group code\n",
    "\n",
    "    def is_outlier(self, data, whisker_multiplier=1.5):\n",
    "        \"\"\"\n",
    "        Returns a boolean vector indicating if observations are outliers.\n",
    "\n",
    "        Parameters:\n",
    "        data: Data to check for outliers\n",
    "        whisker_multiplier: Multiplier for whisker calculation. 1.5 for this activity.\n",
    "\n",
    "        Returns: Boolean vector indicating if each observation is an outlier\n",
    "        \"\"\"\n",
    "        q1 = np.percentile(data, 25)\n",
    "        q3 = np.percentile(data, 75)\n",
    "        iqr = q3 - q1\n",
    "        lower_bound = q1 - (whisker_multiplier * iqr)\n",
    "        upper_bound = q3 + (whisker_multiplier * iqr)\n",
    "        return (data < lower_bound) | (data > upper_bound)"
   ]
  }
 ],
 "metadata": {
  "kernelspec": {
   "display_name": "ds6001",
   "language": "python",
   "name": "python3"
  },
  "language_info": {
   "name": "python",
   "version": "3.13.5"
  }
 },
 "nbformat": 4,
 "nbformat_minor": 5
}
